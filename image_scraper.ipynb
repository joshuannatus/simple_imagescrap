{
 "cells": [
  {
   "cell_type": "code",
   "execution_count": 1,
   "metadata": {},
   "outputs": [],
   "source": [
    "import requests\n",
    "import logging\n",
    "import os\n",
    "from bs4 import BeautifulSoup\n",
    "from urllib.request import urlopen\n"
   ]
  },
  {
   "cell_type": "code",
   "execution_count": 2,
   "metadata": {},
   "outputs": [],
   "source": [
    "save_dir=\"image/\"\n",
    "if not os.path.exists(save_dir):\n",
    "    os.makedirs(save_dir)"
   ]
  },
  {
   "cell_type": "code",
   "execution_count": 3,
   "metadata": {},
   "outputs": [],
   "source": [
    "query = \"elon musk\"\n",
    "url = f\"https://www.google.com/search?sca_esv=98989144458a5fc8&rlz=1C1KNTJ_enNG1059NG1059&sxsrf=ACQVn0-K4fG95J6XSWL5dHbFxhNrlatLUA:1710516370389&q={query}&tbm=isch&source=lnms&sa=X&ved=2ahUKEwistI6FyvaEAxXMQkEAHaX7AeAQ0pQJegQIDhAB&biw=1536&bih=742&dpr=1.25\""
   ]
  },
  {
   "cell_type": "code",
   "execution_count": 4,
   "metadata": {},
   "outputs": [],
   "source": [
    "reponse = requests.get(url)"
   ]
  },
  {
   "cell_type": "code",
   "execution_count": 5,
   "metadata": {},
   "outputs": [
    {
     "data": {
      "text/plain": [
       "<Response [200]>"
      ]
     },
     "execution_count": 5,
     "metadata": {},
     "output_type": "execute_result"
    }
   ],
   "source": [
    "reponse"
   ]
  },
  {
   "cell_type": "code",
   "execution_count": 6,
   "metadata": {},
   "outputs": [],
   "source": [
    "soup = BeautifulSoup(reponse.content, \"html.parser\")"
   ]
  },
  {
   "cell_type": "code",
   "execution_count": 7,
   "metadata": {},
   "outputs": [
    {
     "data": {
      "text/plain": [
       "<!DOCTYPE html PUBLIC \"-//WAPFORUM//DTD XHTML Mobile 1.0//EN\" \"http://www.wapforum.org/DTD/xhtml-mobile10.dtd\">\n",
       "<html lang=\"en-NG\" xmlns=\"http://www.w3.org/1999/xhtml\"><head><meta content=\"application/xhtml+xml; charset=utf-8\" http-equiv=\"Content-Type\"/><meta content=\"no-cache\" name=\"Cache-Control\"/><title>elon musk - Google Search</title><style>a{text-decoration:none;color:inherit}a:hover{text-decoration:underline}a img{border:0}body{font-family:arial,sans-serif;padding:8px;margin:0 auto;max-width:700px;min-width:240px;}.FbhRzb{border-left:thin solid #dadce0;border-right:thin solid #dadce0;border-top:thin solid #dadce0;height:40px;overflow:hidden}.n692Zd{margin-bottom:10px}.cvifge{height:40px;border-spacing:0}.QvGUP{height:40px;padding:0 8px 0 8px;vertical-align:top}.O4cRJf{height:40px;width:100%;padding:0;padding-right:16px}.O1ePr{height:40px;padding:0;vertical-align:top}.kgJEQe{height:36px;width:98px;vertical-align:top;margin-top:4px}.lXLRf{vertical-align:top}.MhzMZd{border:0;vertical-align:middle;font-size:14px;height:40px;padding:0;width:100%;padding-left:16px}.xB0fq{height:40px;border:none;font-size:14px;background-color:#1a73e8;color:#fff;padding:0 16px;margin:0;vertical-align:top;cursor:pointer}.xB0fq:focus{border:1px solid #1a73e8}.M7pB2{border:thin solid #dadce0;margin:0 0 3px 0;font-size:13px;font-weight:500;height:40px}.euZec{width:100%;height:40px;text-align:center;border-spacing:0}table.euZec td{padding:0;width:25%}.QIqI7{display:inline-block;padding-top:4px;font-weight:bold;color:#4285f4}.EY24We{border-bottom:2px solid #4285f4}.CsQyDc{display:inline-block;color:#70757a}.TuS8Ad{font-size:14px}.HddGcc{padding:8px;color:#70757a}.dzp8ae{font-weight:bold;color:#3c4043}.rEM8G{color:#70757a}.bookcf{table-layout:fixed;width:100%;border-spacing:0}.InWNIe{text-align:center}.uZgmoc{border:thin solid #dadce0;color:#70757a;font-size:14px;text-align:center;table-layout:fixed;width:100%}.frGj1b{display:block;padding:12px 0 12px 0;width:100%}.BnJWBc{text-align:center;padding:6px 0 13px 0;height:35px}.e3goi{vertical-align:top;padding:0;height:180px}.GpQGbf{margin:auto;border-collapse:collapse;border-spacing:0;width:100%}</style></head><body><style>.X6ZCif{color:#202124;font-size:11px;line-height:16px;display:inline-block;padding-top:2px;overflow:hidden;padding-bottom:4px;width:100%}.TwVfHd{border-radius:16px;border:thin solid #dadce0;display:inline-block;padding:8px 8px;margin-right:8px;margin-bottom:4px}.yekiAe{background-color:#dadce0}.jjVJ4e{width:100%}.ezO2md{border:thin solid #dadce0;padding:12px 16px 12px 16px;margin-bottom:10px;font-family:arial,sans-serif}.lIMUZd{font-family:arial,sans-serif}.RntSmf{border-spacing:0}.lgD2Tc{width:100%}.SpelHe{text-align:center}.SpelHe{position:relative}.kCmkOe{position:relative}.kCmkOe{width:162px;height:140px;line-height:140px;overflow:'hidden';text-align:center}.DS1iW{text-align:center;margin:auto;vertical-align:middle;max-width:162px;max-height:140px}.AlD19d{padding-top:2px;padding-bottom:8px;}.fYyStc{word-break:break-word}.ynsChf{display:block;white-space:nowrap;overflow:hidden;text-overflow:ellipsis}.Fj3V3b{color:#1967d2;font-size:14px;line-height:20px}.FrIlee{color:#202124;font-size:11px;line-height:16px}.F9iS2e{color:#70757a;font-size:11px;line-height:16px}.WMQ2Le{color:#70757a;font-size:12px;line-height:16px}.x3G5ab{color:#202124;font-size:12px;line-height:16px}.fuLhoc{color:#1967d2;font-size:16px;line-height:20px}.epoveb{font-size:24px;line-height:28px;font-weight:400;color:#202124}.dXDvrc{color:#0d652d;font-size:14px;line-height:20px;word-wrap:break-word}.dloBPe{font-weight:bold}.YVIcad{color:#70757a}.JkVVdd{color:#ea4335}.oXZRFd{color:#ea4335}.MQHtg{color:#fbbc04}.pyMRrb{color:#1e8e3e}.EtTZid{color:#1e8e3e}.M3vVJe{color:#1967d2}.qXLe6d{display:block}.NHQNef{font-style:italic}.Cb8Z7c{white-space:pre}a.ZWRArf{text-decoration:none}a .CVA68e:hover{text-decoration:underline}</style><div class=\"n692Zd\"><div class=\"BnJWBc\"><a class=\"lXLRf\" href=\"/?sa=X&amp;sca_esv=98989144458a5fc8&amp;rlz=1C1KNTJ_enNG1059NG1059&amp;biw=1536&amp;bih=742&amp;output=images&amp;ie=UTF-8&amp;tbm=isch&amp;ved=0ahUKEwihiYWYvaCFAxXfSvEDHeUeC1sQPAgC\"><img alt=\"Google\" class=\"kgJEQe\" src=\"/images/branding/searchlogo/1x/googlelogo_desk_heirloom_color_150x55dp.gif\"/></a></div><div class=\"FbhRzb\"><form action=\"/search\"><input name=\"sca_esv\" type=\"hidden\" value=\"98989144458a5fc8\"/><input name=\"rlz\" type=\"hidden\" value=\"1C1KNTJ_enNG1059NG1059\"/><input name=\"biw\" type=\"hidden\" value=\"1536\"/><input name=\"bih\" type=\"hidden\" value=\"742\"/><input name=\"ie\" type=\"hidden\" value=\"ISO-8859-1\"/><input name=\"tbm\" type=\"hidden\" value=\"isch\"/><input name=\"oq\" type=\"hidden\"/><input name=\"aqs\" type=\"hidden\"/><table class=\"cvifge\"><tr><td class=\"O4cRJf\"><input class=\"MhzMZd\" name=\"q\" type=\"text\" value=\"elon musk\"/></td><td class=\"O1ePr\"><input class=\"xB0fq\" type=\"submit\" value=\"Search\"/></td></tr></table></form></div><div class=\"M7pB2\"><table class=\"euZec\"><tbody><tr><td><a class=\"CsQyDc\" href=\"/search?q=elon+musk&amp;sca_esv=98989144458a5fc8&amp;rlz=1C1KNTJ_enNG1059NG1059&amp;biw=1536&amp;bih=742&amp;ie=UTF-8&amp;source=lnms&amp;sa=X&amp;ved=0ahUKEwihiYWYvaCFAxXfSvEDHeUeC1sQ_AUIBCgA\">ALL</a></td><td><a class=\"CsQyDc\" href=\"/search?q=elon+musk&amp;sca_esv=98989144458a5fc8&amp;rlz=1C1KNTJ_enNG1059NG1059&amp;biw=1536&amp;bih=742&amp;ie=UTF-8&amp;tbm=nws&amp;source=lnms&amp;sa=X&amp;ved=0ahUKEwihiYWYvaCFAxXfSvEDHeUeC1sQ_AUIBSgB\">NEWS</a></td><td class=\"EY24We\"><span class=\"QIqI7\">IMAGES</span></td><td><a class=\"CsQyDc\" href=\"/search?q=elon+musk&amp;sca_esv=98989144458a5fc8&amp;rlz=1C1KNTJ_enNG1059NG1059&amp;biw=1536&amp;bih=742&amp;ie=UTF-8&amp;tbm=vid&amp;source=lnms&amp;sa=X&amp;ved=0ahUKEwihiYWYvaCFAxXfSvEDHeUeC1sQ_AUIBygD\">VIDEOS</a></td></tr></tbody></table></div></div><div class=\"X6ZCif\"><a class=\"TwVfHd\" href=\"/search?sca_esv=98989144458a5fc8&amp;rlz=1C1KNTJ_enNG1059NG1059&amp;biw=1536&amp;bih=742&amp;ie=UTF-8&amp;tbm=isch&amp;q=elon+musk&amp;chips=q:elon+musk,g_1:tesla&amp;sa=X&amp;ved=0ahUKEwihiYWYvaCFAxXfSvEDHeUeC1sQ4lYICygA\">tesla</a><a class=\"TwVfHd\" href=\"/search?sca_esv=98989144458a5fc8&amp;rlz=1C1KNTJ_enNG1059NG1059&amp;biw=1536&amp;bih=742&amp;ie=UTF-8&amp;tbm=isch&amp;q=elon+musk&amp;chips=q:elon+musk,g_1:spacex&amp;sa=X&amp;ved=0ahUKEwihiYWYvaCFAxXfSvEDHeUeC1sQ4lYIDCgB\">spacex</a><a class=\"TwVfHd\" href=\"/search?sca_esv=98989144458a5fc8&amp;rlz=1C1KNTJ_enNG1059NG1059&amp;biw=1536&amp;bih=742&amp;ie=UTF-8&amp;tbm=isch&amp;q=elon+musk&amp;chips=q:elon+musk,g_1:rocket&amp;sa=X&amp;ved=0ahUKEwihiYWYvaCFAxXfSvEDHeUeC1sQ4lYIDSgC\">rocket</a><a class=\"TwVfHd\" href=\"/search?sca_esv=98989144458a5fc8&amp;rlz=1C1KNTJ_enNG1059NG1059&amp;biw=1536&amp;bih=742&amp;ie=UTF-8&amp;tbm=isch&amp;q=elon+musk&amp;chips=q:elon+musk,g_1:car&amp;sa=X&amp;ved=0ahUKEwihiYWYvaCFAxXfSvEDHeUeC1sQ4lYIDigD\">car</a><a class=\"TwVfHd\" href=\"/search?sca_esv=98989144458a5fc8&amp;rlz=1C1KNTJ_enNG1059NG1059&amp;biw=1536&amp;bih=742&amp;ie=UTF-8&amp;tbm=isch&amp;q=elon+musk&amp;chips=q:elon+musk,g_1:grimes&amp;sa=X&amp;ved=0ahUKEwihiYWYvaCFAxXfSvEDHeUeC1sQ4lYIDygE\">grimes</a><a class=\"TwVfHd\" href=\"/search?sca_esv=98989144458a5fc8&amp;rlz=1C1KNTJ_enNG1059NG1059&amp;biw=1536&amp;bih=742&amp;ie=UTF-8&amp;tbm=isch&amp;q=elon+musk&amp;chips=q:elon+musk,g_1:twitter&amp;sa=X&amp;ved=0ahUKEwihiYWYvaCFAxXfSvEDHeUeC1sQ4lYIECgF\">twitter</a><a class=\"TwVfHd\" href=\"/search?sca_esv=98989144458a5fc8&amp;rlz=1C1KNTJ_enNG1059NG1059&amp;biw=1536&amp;bih=742&amp;ie=UTF-8&amp;tbm=isch&amp;q=elon+musk&amp;chips=q:elon+musk,g_1:early&amp;sa=X&amp;ved=0ahUKEwihiYWYvaCFAxXfSvEDHeUeC1sQ4lYIESgG\">early</a><a class=\"TwVfHd\" href=\"/search?sca_esv=98989144458a5fc8&amp;rlz=1C1KNTJ_enNG1059NG1059&amp;biw=1536&amp;bih=742&amp;ie=UTF-8&amp;tbm=isch&amp;q=elon+musk&amp;chips=q:elon+musk,g_1:roadster&amp;sa=X&amp;ved=0ahUKEwihiYWYvaCFAxXfSvEDHeUeC1sQ4lYIEigH\">roadster</a><a class=\"TwVfHd\" href=\"/search?sca_esv=98989144458a5fc8&amp;rlz=1C1KNTJ_enNG1059NG1059&amp;biw=1536&amp;bih=742&amp;ie=UTF-8&amp;tbm=isch&amp;q=elon+musk&amp;chips=q:elon+musk,g_1:paypal&amp;sa=X&amp;ved=0ahUKEwihiYWYvaCFAxXfSvEDHeUeC1sQ4lYIEygI\">paypal</a><a class=\"TwVfHd\" href=\"/search?sca_esv=98989144458a5fc8&amp;rlz=1C1KNTJ_enNG1059NG1059&amp;biw=1536&amp;bih=742&amp;ie=UTF-8&amp;tbm=isch&amp;q=elon+musk&amp;chips=q:elon+musk,g_1:old&amp;sa=X&amp;ved=0ahUKEwihiYWYvaCFAxXfSvEDHeUeC1sQ4lYIFCgJ\">old</a></div><div><table class=\"GpQGbf\"><tr><td align=\"center\" class=\"e3goi\"><div class=\"jjVJ4e\"> <div> <div class=\"lIMUZd\"><div><table class=\"RntSmf\"><tr><td><a href=\"/url?q=https://en.wikipedia.org/wiki/Elon_Musk&amp;sa=U&amp;ved=2ahUKEwihiYWYvaCFAxXfSvEDHeUeC1sQqoUBegQIAhAB&amp;usg=AOvVaw12OzCeegowKtfwskS_OQJf\"><div class=\"kCmkOe\"><img alt=\"\" class=\"DS1iW\" src=\"https://encrypted-tbn0.gstatic.com/images?q=tbn:ANd9GcQWIm8IhNbQ8cHHkx25dbTK7_RaRK8DrRrK4GrR4wyApiAsBJPUbhsa7ICjKg&amp;s\"/></div></a></td></tr><tr><td><a href=\"/url?q=https://en.wikipedia.org/wiki/Elon_Musk&amp;sa=U&amp;ved=2ahUKEwihiYWYvaCFAxXfSvEDHeUeC1sQr4kDegQIAhAC&amp;usg=AOvVaw0Gw06LzSl-n72LKPHD06yR\"><div class=\"AlD19d\"> <span class=\"qXLe6d x3G5ab\"> <span class=\"fYyStc\">Elon Musk - Wikipedia</span> </span> <span class=\"qXLe6d F9iS2e\"> <span class=\"fYyStc\">en.wikipedia.org</span> </span> </div></a></td></tr></table></div></div> </div> </div></td><td align=\"center\" class=\"e3goi\"><div class=\"jjVJ4e\"> <div> <div class=\"lIMUZd\"><div><table class=\"RntSmf\"><tr><td><a href=\"/url?q=https://www.britannica.com/biography/Elon-Musk&amp;sa=U&amp;ved=2ahUKEwihiYWYvaCFAxXfSvEDHeUeC1sQqoUBegQIExAB&amp;usg=AOvVaw1mUj_rLxZ7KmEJHlW-ssVf\"><div class=\"kCmkOe\"><img alt=\"\" class=\"DS1iW\" src=\"https://encrypted-tbn0.gstatic.com/images?q=tbn:ANd9GcQY_R5NSNoZkSlMo3hf86COGJ4fCv0s6Nx4k8uCGkWc6YGOn_m4-rIOQ3GhOhg&amp;s\"/></div></a></td></tr><tr><td><a href=\"/url?q=https://www.britannica.com/biography/Elon-Musk&amp;sa=U&amp;ved=2ahUKEwihiYWYvaCFAxXfSvEDHeUeC1sQr4kDegQIExAC&amp;usg=AOvVaw2ypqMijI3Nbw8bOHxUQS7p\"><div class=\"AlD19d\"> <span class=\"qXLe6d x3G5ab\"> <span class=\"fYyStc\">Elon Musk | Biography,...</span> </span> <span class=\"qXLe6d F9iS2e\"> <span class=\"fYyStc\">www.britannica.com</span> </span> </div></a></td></tr></table></div></div> </div> </div></td><td align=\"center\" class=\"e3goi\"><div class=\"jjVJ4e\"> <div> <div class=\"lIMUZd\"><div><table class=\"RntSmf\"><tr><td><a href=\"/url?q=https://www.investopedia.com/articles/personal-finance/061015/how-elon-musk-became-elon-musk.asp&amp;sa=U&amp;ved=2ahUKEwihiYWYvaCFAxXfSvEDHeUeC1sQqoUBegQIEhAB&amp;usg=AOvVaw3fF-Dx0qTvfSU-ZgSiSbHQ\"><div class=\"kCmkOe\"><img alt=\"\" class=\"DS1iW\" src=\"https://encrypted-tbn0.gstatic.com/images?q=tbn:ANd9GcTTO0bYn7LKOBzOMJRp9mXeD2scBnuMtPGfQYqjaBoxMHMtDToYys4awIx7ou8&amp;s\"/></div></a></td></tr><tr><td><a href=\"/url?q=https://www.investopedia.com/articles/personal-finance/061015/how-elon-musk-became-elon-musk.asp&amp;sa=U&amp;ved=2ahUKEwihiYWYvaCFAxXfSvEDHeUeC1sQr4kDegQIEhAC&amp;usg=AOvVaw2kKeGqDVLNwZlwASHNWRKS\"><div class=\"AlD19d\"> <span class=\"qXLe6d x3G5ab\"> <span class=\"fYyStc\">Who Is Elon Musk?</span> </span> <span class=\"qXLe6d F9iS2e\"> <span class=\"fYyStc\">www.investopedia.com</span> </span> </div></a></td></tr></table></div></div> </div> </div></td><td align=\"center\" class=\"e3goi\"><div class=\"jjVJ4e\"> <div> <div class=\"lIMUZd\"><div><table class=\"RntSmf\"><tr><td><a href=\"/url?q=https://www.reuters.com/technology/musks-grok-15-ai-chatbot-be-available-next-week-2024-03-29/&amp;sa=U&amp;ved=2ahUKEwihiYWYvaCFAxXfSvEDHeUeC1sQqoUBegQICRAB&amp;usg=AOvVaw2189qtC2csd7amHoF8Mdvv\"><div class=\"kCmkOe\"><img alt=\"\" class=\"DS1iW\" src=\"https://encrypted-tbn0.gstatic.com/images?q=tbn:ANd9GcQikTDjhKROagTaVq5vMFHkwcuUWsUmD2i3_l5O_lYk3Ul2KCq0OjCR5m21AQ&amp;s\"/></div></a></td></tr><tr><td><a href=\"/url?q=https://www.reuters.com/technology/musks-grok-15-ai-chatbot-be-available-next-week-2024-03-29/&amp;sa=U&amp;ved=2ahUKEwihiYWYvaCFAxXfSvEDHeUeC1sQr4kDegQICRAC&amp;usg=AOvVaw0Q-zupQKuVWLnzN_ZM_LhJ\"><div class=\"AlD19d\"> <span class=\"qXLe6d x3G5ab\"> <span class=\"fYyStc\">Musk's Grok-1.5 AI chatbot...</span> </span> <span class=\"qXLe6d F9iS2e\"> <span class=\"fYyStc\">www.reuters.com</span> </span> </div></a></td></tr></table></div></div> </div> </div></td></tr><tr><td align=\"center\" class=\"e3goi\"><div class=\"jjVJ4e\"> <div> <div class=\"lIMUZd\"><div><table class=\"RntSmf\"><tr><td><a href=\"/url?q=https://www.biography.com/business-leaders/elon-musk&amp;sa=U&amp;ved=2ahUKEwihiYWYvaCFAxXfSvEDHeUeC1sQqoUBegQIEBAB&amp;usg=AOvVaw0tjFU9vj_XbpurtciPTOgp\"><div class=\"kCmkOe\"><img alt=\"\" class=\"DS1iW\" src=\"https://encrypted-tbn0.gstatic.com/images?q=tbn:ANd9GcSWquD3V9PShopfxR5z4mBgB3IZnXGWVDSQM_48N0nbiI_0DYg43GVIktea3Uc&amp;s\"/></div></a></td></tr><tr><td><a href=\"/url?q=https://www.biography.com/business-leaders/elon-musk&amp;sa=U&amp;ved=2ahUKEwihiYWYvaCFAxXfSvEDHeUeC1sQr4kDegQIEBAC&amp;usg=AOvVaw0ScCwKDH8GWkzxqiqd2Aon\"><div class=\"AlD19d\"> <span class=\"qXLe6d x3G5ab\"> <span class=\"fYyStc\">Elon Musk - Tesla, Age &amp;...</span> </span> <span class=\"qXLe6d F9iS2e\"> <span class=\"fYyStc\">www.biography.com</span> </span> </div></a></td></tr></table></div></div> </div> </div></td><td align=\"center\" class=\"e3goi\"><div class=\"jjVJ4e\"> <div> <div class=\"lIMUZd\"><div><table class=\"RntSmf\"><tr><td><a href=\"/url?q=https://www.britannica.com/biography/Elon-Musk&amp;sa=U&amp;ved=2ahUKEwihiYWYvaCFAxXfSvEDHeUeC1sQqoUBegQIChAB&amp;usg=AOvVaw2PO2o9W44LTuiVzQ_N3ezJ\"><div class=\"kCmkOe\"><img alt=\"\" class=\"DS1iW\" src=\"https://encrypted-tbn0.gstatic.com/images?q=tbn:ANd9GcS6mPr1g683xgMlTnJfswzPyIjixDUJCLKR_GUOYd43dGj0LB8Uum64r_cOjl4&amp;s\"/></div></a></td></tr><tr><td><a href=\"/url?q=https://www.britannica.com/biography/Elon-Musk&amp;sa=U&amp;ved=2ahUKEwihiYWYvaCFAxXfSvEDHeUeC1sQr4kDegQIChAC&amp;usg=AOvVaw1rwcytR88h_oKnFVvc2z8w\"><div class=\"AlD19d\"> <span class=\"qXLe6d x3G5ab\"> <span class=\"fYyStc\">Elon Musk | Biography,...</span> </span> <span class=\"qXLe6d F9iS2e\"> <span class=\"fYyStc\">www.britannica.com</span> </span> </div></a></td></tr></table></div></div> </div> </div></td><td align=\"center\" class=\"e3goi\"><div class=\"jjVJ4e\"> <div> <div class=\"lIMUZd\"><div><table class=\"RntSmf\"><tr><td><a href=\"/url?q=https://www.britannica.com/biography/Elon-Musk&amp;sa=U&amp;ved=2ahUKEwihiYWYvaCFAxXfSvEDHeUeC1sQqoUBegQIDxAB&amp;usg=AOvVaw2yrh5W1gdwScTGHbZ67TQk\"><div class=\"kCmkOe\"><img alt=\"\" class=\"DS1iW\" src=\"https://encrypted-tbn0.gstatic.com/images?q=tbn:ANd9GcQosXj2elVFnxW60i0y2hp3ewC9ttZ6z78KaQ1MIqaaLOD_iocx9TT8qVsKW-k&amp;s\"/></div></a></td></tr><tr><td><a href=\"/url?q=https://www.britannica.com/biography/Elon-Musk&amp;sa=U&amp;ved=2ahUKEwihiYWYvaCFAxXfSvEDHeUeC1sQr4kDegQIDxAC&amp;usg=AOvVaw0mqBiSn-Ss-zN5hwDokpsh\"><div class=\"AlD19d\"> <span class=\"qXLe6d x3G5ab\"> <span class=\"fYyStc\">Elon Musk | Biography,...</span> </span> <span class=\"qXLe6d F9iS2e\"> <span class=\"fYyStc\">www.britannica.com</span> </span> </div></a></td></tr></table></div></div> </div> </div></td><td align=\"center\" class=\"e3goi\"><div class=\"jjVJ4e\"> <div> <div class=\"lIMUZd\"><div><table class=\"RntSmf\"><tr><td><a href=\"/url?q=https://www.simonandschuster.com/books/Elon-Musk/Walter-Isaacson/9781982181284&amp;sa=U&amp;ved=2ahUKEwihiYWYvaCFAxXfSvEDHeUeC1sQqoUBegQICxAB&amp;usg=AOvVaw3iPuDILWp7wd6oJPWkOaaW\"><div class=\"kCmkOe\"><img alt=\"\" class=\"DS1iW\" src=\"https://encrypted-tbn0.gstatic.com/images?q=tbn:ANd9GcS6PtbO3oSFgC1yh6BPlre0Sr5h3aca6UrEmg7ibGUrD1g40Xm5cZBGYl7G3PU&amp;s\"/></div></a></td></tr><tr><td><a href=\"/url?q=https://www.simonandschuster.com/books/Elon-Musk/Walter-Isaacson/9781982181284&amp;sa=U&amp;ved=2ahUKEwihiYWYvaCFAxXfSvEDHeUeC1sQr4kDegQICxAC&amp;usg=AOvVaw1QE_HA5f92uHS-rgAxdTll\"><div class=\"AlD19d\"> <span class=\"qXLe6d x3G5ab\"> <span class=\"fYyStc\">Elon Musk | Book by Walter...</span> </span> <span class=\"qXLe6d F9iS2e\"> <span class=\"fYyStc\">www.simonandschuster.com</span> </span> </div></a></td></tr></table></div></div> </div> </div></td></tr><tr><td align=\"center\" class=\"e3goi\"><div class=\"jjVJ4e\"> <div> <div class=\"lIMUZd\"><div><table class=\"RntSmf\"><tr><td><a href=\"/url?q=https://www.wired.com/story/plaintext-elon-musk-happy-child-launching-rockets/&amp;sa=U&amp;ved=2ahUKEwihiYWYvaCFAxXfSvEDHeUeC1sQqoUBegQIDhAB&amp;usg=AOvVaw3WbIBVIFYoz_uqkIwuoaJc\"><div class=\"kCmkOe\"><img alt=\"\" class=\"DS1iW\" src=\"https://encrypted-tbn0.gstatic.com/images?q=tbn:ANd9GcQoVC24-iwfmg1ynOoPkfB6fTOMKA4IEscvasg7lr_QSTQQIUU8Gq65d0EOoQ&amp;s\"/></div></a></td></tr><tr><td><a href=\"/url?q=https://www.wired.com/story/plaintext-elon-musk-happy-child-launching-rockets/&amp;sa=U&amp;ved=2ahUKEwihiYWYvaCFAxXfSvEDHeUeC1sQr4kDegQIDhAC&amp;usg=AOvVaw3YJ3kpBiXPFI3GNneZwkd5\"><div class=\"AlD19d\"> <span class=\"qXLe6d x3G5ab\"> <span class=\"fYyStc\">If Elon Musk Had Been a...</span> </span> <span class=\"qXLe6d F9iS2e\"> <span class=\"fYyStc\">www.wired.com</span> </span> </div></a></td></tr></table></div></div> </div> </div></td><td align=\"center\" class=\"e3goi\"><div class=\"jjVJ4e\"> <div> <div class=\"lIMUZd\"><div><table class=\"RntSmf\"><tr><td><a href=\"/url?q=https://www.rollingstone.com/culture/culture-news/elon-musk-says-find-new-twitter-ceo-2023-1234680357/&amp;sa=U&amp;ved=2ahUKEwihiYWYvaCFAxXfSvEDHeUeC1sQqoUBegQIDRAB&amp;usg=AOvVaw0dC055dAXqU0pQTeUHQai_\"><div class=\"kCmkOe\"><img alt=\"\" class=\"DS1iW\" src=\"https://encrypted-tbn0.gstatic.com/images?q=tbn:ANd9GcSwq0dm9LsIJFXhVpVi2-xb2VQSTdG7Tb92l9AIyKFFgrYonh1FnTbuvi-3Cw&amp;s\"/></div></a></td></tr><tr><td><a href=\"/url?q=https://www.rollingstone.com/culture/culture-news/elon-musk-says-find-new-twitter-ceo-2023-1234680357/&amp;sa=U&amp;ved=2ahUKEwihiYWYvaCFAxXfSvEDHeUeC1sQr4kDegQIDRAC&amp;usg=AOvVaw3-SWfvuR_xJapOdIQCE8ZL\"><div class=\"AlD19d\"> <span class=\"qXLe6d x3G5ab\"> <span class=\"fYyStc\">Elon Musk Says He Wants New...</span> </span> <span class=\"qXLe6d F9iS2e\"> <span class=\"fYyStc\">www.rollingstone.com</span> </span> </div></a></td></tr></table></div></div> </div> </div></td><td align=\"center\" class=\"e3goi\"><div class=\"jjVJ4e\"> <div> <div class=\"lIMUZd\"><div><table class=\"RntSmf\"><tr><td><a href=\"/url?q=https://www.businessinsider.com/elon-musk&amp;sa=U&amp;ved=2ahUKEwihiYWYvaCFAxXfSvEDHeUeC1sQqoUBegQIDBAB&amp;usg=AOvVaw1ENwAhlnPL67BM1MhdBwTs\"><div class=\"kCmkOe\"><img alt=\"\" class=\"DS1iW\" src=\"https://encrypted-tbn0.gstatic.com/images?q=tbn:ANd9GcQPvuVvVBy-4sRmLNi7aNFcCiLP38rydifYXwFQfE3bQ2IJ6Q5mmXrZdFCSlw&amp;s\"/></div></a></td></tr><tr><td><a href=\"/url?q=https://www.businessinsider.com/elon-musk&amp;sa=U&amp;ved=2ahUKEwihiYWYvaCFAxXfSvEDHeUeC1sQr4kDegQIDBAC&amp;usg=AOvVaw3tXMzP6e9PdFNgl5JH-XSC\"><div class=\"AlD19d\"> <span class=\"qXLe6d x3G5ab\"> <span class=\"fYyStc\">Elon Musk Runs Twitter,...</span> </span> <span class=\"qXLe6d F9iS2e\"> <span class=\"fYyStc\">www.businessinsider.com</span> </span> </div></a></td></tr></table></div></div> </div> </div></td><td align=\"center\" class=\"e3goi\"><div class=\"jjVJ4e\"> <div> <div class=\"lIMUZd\"><div><table class=\"RntSmf\"><tr><td><a href=\"/url?q=https://leadership.ng/elon-musk-makes-history-as-first-to-lose-200bn/&amp;sa=U&amp;ved=2ahUKEwihiYWYvaCFAxXfSvEDHeUeC1sQqoUBegQIERAB&amp;usg=AOvVaw1_ZfctzWl0kliaZwaC6cGa\"><div class=\"kCmkOe\"><img alt=\"\" class=\"DS1iW\" src=\"https://encrypted-tbn0.gstatic.com/images?q=tbn:ANd9GcQCdV2hVwayQ5-O7mnu-TPZPw0ZTjyEwRNElEkSdfhHL3ne0-iCez4Oo_r_9g&amp;s\"/></div></a></td></tr><tr><td><a href=\"/url?q=https://leadership.ng/elon-musk-makes-history-as-first-to-lose-200bn/&amp;sa=U&amp;ved=2ahUKEwihiYWYvaCFAxXfSvEDHeUeC1sQr4kDegQIERAC&amp;usg=AOvVaw1atKOVxSwh0Y3CFj2d7RXj\"><div class=\"AlD19d\"> <span class=\"qXLe6d x3G5ab\"> <span class=\"fYyStc\">Elon Musk Makes History As...</span> </span> <span class=\"qXLe6d F9iS2e\"> <span class=\"fYyStc\">leadership.ng</span> </span> </div></a></td></tr></table></div></div> </div> </div></td></tr><tr><td align=\"center\" class=\"e3goi\"><div class=\"jjVJ4e\"> <div> <div class=\"lIMUZd\"><div><table class=\"RntSmf\"><tr><td><a href=\"/url?q=https://nn.wikipedia.org/wiki/Elon_Musk&amp;sa=U&amp;ved=2ahUKEwihiYWYvaCFAxXfSvEDHeUeC1sQqoUBegQIAxAB&amp;usg=AOvVaw3LErlqXjgiKqH-CsbY7blL\"><div class=\"kCmkOe\"><img alt=\"\" class=\"DS1iW\" src=\"https://encrypted-tbn0.gstatic.com/images?q=tbn:ANd9GcRrZNzYQxi1a-qn4UAQIHAseCjJ0_ewPp2-Su3ImZe_cD-HPueyeQFHT6PGxA&amp;s\"/></div></a></td></tr><tr><td><a href=\"/url?q=https://nn.wikipedia.org/wiki/Elon_Musk&amp;sa=U&amp;ved=2ahUKEwihiYWYvaCFAxXfSvEDHeUeC1sQr4kDegQIAxAC&amp;usg=AOvVaw0YOhkRFWyTr7LpcFqEQQJH\"><div class=\"AlD19d\"> <span class=\"qXLe6d x3G5ab\"> <span class=\"fYyStc\">Elon Musk – Wikipedia</span> </span> <span class=\"qXLe6d F9iS2e\"> <span class=\"fYyStc\">nn.wikipedia.org</span> </span> </div></a></td></tr></table></div></div> </div> </div></td><td align=\"center\" class=\"e3goi\"><div class=\"jjVJ4e\"> <div> <div class=\"lIMUZd\"><div><table class=\"RntSmf\"><tr><td><a href=\"/url?q=https://www.rollingstone.com/culture/culture-features/elon-musk-the-architect-of-tomorrow-120850/&amp;sa=U&amp;ved=2ahUKEwihiYWYvaCFAxXfSvEDHeUeC1sQqoUBegQIBRAB&amp;usg=AOvVaw2zaPFD_oHy8RGyRp3i6ipW\"><div class=\"kCmkOe\"><img alt=\"\" class=\"DS1iW\" src=\"https://encrypted-tbn0.gstatic.com/images?q=tbn:ANd9GcQOT3P9YTxYyjvEdqbs3Hl9V9QbfMz8hp6pHVkRcVGvdgF2GKdXsc5LDyC6&amp;s\"/></div></a></td></tr><tr><td><a href=\"/url?q=https://www.rollingstone.com/culture/culture-features/elon-musk-the-architect-of-tomorrow-120850/&amp;sa=U&amp;ved=2ahUKEwihiYWYvaCFAxXfSvEDHeUeC1sQr4kDegQIBRAC&amp;usg=AOvVaw0uUVO-KbOxBQbSTTchGeVs\"><div class=\"AlD19d\"> <span class=\"qXLe6d x3G5ab\"> <span class=\"fYyStc\">Elon Musk: Inventor's Plans...</span> </span> <span class=\"qXLe6d F9iS2e\"> <span class=\"fYyStc\">www.rollingstone.com</span> </span> </div></a></td></tr></table></div></div> </div> </div></td><td align=\"center\" class=\"e3goi\"><div class=\"jjVJ4e\"> <div> <div class=\"lIMUZd\"><div><table class=\"RntSmf\"><tr><td><a href=\"/url?q=https://www.ndtv.com/feature/how-elon-musk-richest-man-in-the-world-earned-his-first-1-million-4412988&amp;sa=U&amp;ved=2ahUKEwihiYWYvaCFAxXfSvEDHeUeC1sQqoUBegQIBhAB&amp;usg=AOvVaw1jf3BT2_uhus0sxG-qrUxe\"><div class=\"kCmkOe\"><img alt=\"\" class=\"DS1iW\" src=\"https://encrypted-tbn0.gstatic.com/images?q=tbn:ANd9GcSMYNRVFWT78z1HfCjjsXyWHH40VRIwjNiYar3jQYHUhnaCQJZ6GSxCQ6cYto8&amp;s\"/></div></a></td></tr><tr><td><a href=\"/url?q=https://www.ndtv.com/feature/how-elon-musk-richest-man-in-the-world-earned-his-first-1-million-4412988&amp;sa=U&amp;ved=2ahUKEwihiYWYvaCFAxXfSvEDHeUeC1sQr4kDegQIBhAC&amp;usg=AOvVaw1xqVTtrx9x1x1y4ztWxVyv\"><div class=\"AlD19d\"> <span class=\"qXLe6d x3G5ab\"> <span class=\"fYyStc\">How Elon Musk, Richest Man...</span> </span> <span class=\"qXLe6d F9iS2e\"> <span class=\"fYyStc\">www.ndtv.com</span> </span> </div></a></td></tr></table></div></div> </div> </div></td><td align=\"center\" class=\"e3goi\"><div class=\"jjVJ4e\"> <div> <div class=\"lIMUZd\"><div><table class=\"RntSmf\"><tr><td><a href=\"/url?q=https://www.newscientist.com/article/2342446-the-elon-musk-show-review-searching-for-the-man-who-is-elon-musk/&amp;sa=U&amp;ved=2ahUKEwihiYWYvaCFAxXfSvEDHeUeC1sQqoUBegQIBBAB&amp;usg=AOvVaw2hZpPHmHKCUvT2XdA0kDrb\"><div class=\"kCmkOe\"><img alt=\"\" class=\"DS1iW\" src=\"https://encrypted-tbn0.gstatic.com/images?q=tbn:ANd9GcQkqgOWpGbsjvlfXgAzldcUv97Lh_0WqwpXwlrwCzhWF2YHLJO7PQgFKZR7gSg&amp;s\"/></div></a></td></tr><tr><td><a href=\"/url?q=https://www.newscientist.com/article/2342446-the-elon-musk-show-review-searching-for-the-man-who-is-elon-musk/&amp;sa=U&amp;ved=2ahUKEwihiYWYvaCFAxXfSvEDHeUeC1sQr4kDegQIBBAC&amp;usg=AOvVaw2lrd0_gQ-q4yut6EdtVLIp\"><div class=\"AlD19d\"> <span class=\"qXLe6d x3G5ab\"> <span class=\"fYyStc\">The Elon Musk Show review:...</span> </span> <span class=\"qXLe6d F9iS2e\"> <span class=\"fYyStc\">www.newscientist.com</span> </span> </div></a></td></tr></table></div></div> </div> </div></td></tr><tr><td align=\"center\" class=\"e3goi\"><div class=\"jjVJ4e\"> <div> <div class=\"lIMUZd\"><div><table class=\"RntSmf\"><tr><td><a href=\"/url?q=https://abcnews.go.com/Business/timeline-elon-musks-tumultuous-twitter-acquisition-attempt/story%3Fid%3D86611191&amp;sa=U&amp;ved=2ahUKEwihiYWYvaCFAxXfSvEDHeUeC1sQqoUBegQIARAB&amp;usg=AOvVaw3kv_vDyU-wCQb56INcqSfR\"><div class=\"kCmkOe\"><img alt=\"\" class=\"DS1iW\" src=\"https://encrypted-tbn0.gstatic.com/images?q=tbn:ANd9GcSPf6wPoGZNPac4YVeTr95bTPwHEDU2Sl65hmiAwywZr39gPkk2lsAmYvpUog&amp;s\"/></div></a></td></tr><tr><td><a href=\"/url?q=https://abcnews.go.com/Business/timeline-elon-musks-tumultuous-twitter-acquisition-attempt/story%3Fid%3D86611191&amp;sa=U&amp;ved=2ahUKEwihiYWYvaCFAxXfSvEDHeUeC1sQr4kDegQIARAC&amp;usg=AOvVaw28c8iZwohcZaB7W6zyjnvU\"><div class=\"AlD19d\"> <span class=\"qXLe6d x3G5ab\"> <span class=\"fYyStc\">A timeline of Elon Musk's...</span> </span> <span class=\"qXLe6d F9iS2e\"> <span class=\"fYyStc\">abcnews.go.com</span> </span> </div></a></td></tr></table></div></div> </div> </div></td><td align=\"center\" class=\"e3goi\"><div class=\"jjVJ4e\"> <div> <div class=\"lIMUZd\"><div><table class=\"RntSmf\"><tr><td><a href=\"/url?q=https://www.bbc.com/news/business-61234231&amp;sa=U&amp;ved=2ahUKEwihiYWYvaCFAxXfSvEDHeUeC1sQqoUBegQIBxAB&amp;usg=AOvVaw291AvM1kq1lrqKANF-Gdip\"><div class=\"kCmkOe\"><img alt=\"\" class=\"DS1iW\" src=\"https://encrypted-tbn0.gstatic.com/images?q=tbn:ANd9GcQsiEvZM8rCdDGqNI6N2iKNQIH5WWiXrCVu70Vuwxl3h0VtHZ4T30JNmNnNAhY&amp;s\"/></div></a></td></tr><tr><td><a href=\"/url?q=https://www.bbc.com/news/business-61234231&amp;sa=U&amp;ved=2ahUKEwihiYWYvaCFAxXfSvEDHeUeC1sQr4kDegQIBxAC&amp;usg=AOvVaw323dSWImRQEo5AVsPn0sl7\"><div class=\"AlD19d\"> <span class=\"qXLe6d x3G5ab\"> <span class=\"fYyStc\">Who is Elon Musk and what...</span> </span> <span class=\"qXLe6d F9iS2e\"> <span class=\"fYyStc\">www.bbc.com</span> </span> </div></a></td></tr></table></div></div> </div> </div></td><td align=\"center\" class=\"e3goi\"><div class=\"jjVJ4e\"> <div> <div class=\"lIMUZd\"><div><table class=\"RntSmf\"><tr><td><a href=\"/url?q=https://www.npr.org/2022/06/16/1105608659/elon-musk-twitter-employees&amp;sa=U&amp;ved=2ahUKEwihiYWYvaCFAxXfSvEDHeUeC1sQqoUBegQICBAB&amp;usg=AOvVaw0ZqTSVzl3PVwoGlIhD2C7A\"><div class=\"kCmkOe\"><img alt=\"\" class=\"DS1iW\" src=\"https://encrypted-tbn0.gstatic.com/images?q=tbn:ANd9GcQ89a56TN120-0LXqj6ip3zDGy0mlr08Pu7P6yiwackORDyp2JIozn6t8kjWA&amp;s\"/></div></a></td></tr><tr><td><a href=\"/url?q=https://www.npr.org/2022/06/16/1105608659/elon-musk-twitter-employees&amp;sa=U&amp;ved=2ahUKEwihiYWYvaCFAxXfSvEDHeUeC1sQr4kDegQICBAC&amp;usg=AOvVaw0wcyVOi21RuCLsTgaLLDIa\"><div class=\"AlD19d\"> <span class=\"qXLe6d x3G5ab\"> <span class=\"fYyStc\">Elon Musk addresses Twitter...</span> </span> <span class=\"qXLe6d F9iS2e\"> <span class=\"fYyStc\">www.npr.org</span> </span> </div></a></td></tr></table></div></div> </div> </div></td><td align=\"center\" class=\"e3goi\"><div class=\"jjVJ4e\"> <div> <div class=\"lIMUZd\"><div><table class=\"RntSmf\"><tr><td><a href=\"/url?q=https://www.space.com/18849-elon-musk.html&amp;sa=U&amp;ved=2ahUKEwihiYWYvaCFAxXfSvEDHeUeC1sQqoUBegQIABAB&amp;usg=AOvVaw1tgHaMzHLP9Ec6kBX4MytS\"><div class=\"kCmkOe\"><img alt=\"\" class=\"DS1iW\" src=\"https://encrypted-tbn0.gstatic.com/images?q=tbn:ANd9GcS1mn0RJO-K0z-Ld3W4zzmYra_D5KVopm8yTCgEVm7K3FdarCualrSnlz8jNd0&amp;s\"/></div></a></td></tr><tr><td><a href=\"/url?q=https://www.space.com/18849-elon-musk.html&amp;sa=U&amp;ved=2ahUKEwihiYWYvaCFAxXfSvEDHeUeC1sQr4kDegQIABAC&amp;usg=AOvVaw1PUrB17_ruPEMLxQb4WYnG\"><div class=\"AlD19d\"> <span class=\"qXLe6d x3G5ab\"> <span class=\"fYyStc\">Elon Musk: Revolutionary...</span> </span> <span class=\"qXLe6d F9iS2e\"> <span class=\"fYyStc\">www.space.com</span> </span> </div></a></td></tr></table></div></div> </div> </div></td></tr></table></div><table class=\"uZgmoc\"><tbody><td><a class=\"frGj1b\" href=\"/search?q=elon+musk&amp;sca_esv=98989144458a5fc8&amp;rlz=1C1KNTJ_enNG1059NG1059&amp;biw=1536&amp;bih=742&amp;ie=UTF-8&amp;tbm=isch&amp;ei=PWAKZuH2Gd-Vxc8P5b2s2AU&amp;start=20&amp;sa=N\">Next &gt;</a></td></tbody></table><br/><div class=\"TuS8Ad\" data-ved=\"0ahUKEwihiYWYvaCFAxXfSvEDHeUeC1sQpyoIUg\"><style>.VYM29{font-weight:bold}</style><div align=\"center\" class=\"HddGcc\"><span class=\"VYM29\">Lagos</span><span> - </span><span>From your IP address</span><span> - </span><a href=\"/url?q=https://support.google.com/websearch%3Fp%3Dws_settings_location%26hl%3Den-NG&amp;opi=89978449&amp;sa=U&amp;ved=0ahUKEwihiYWYvaCFAxXfSvEDHeUeC1sQty4IUw&amp;usg=AOvVaw1RqSwDH9acDWmTyyO4gwty\">Learn more</a></div><div align=\"center\"><a class=\"rEM8G\" href=\"/url?q=https://accounts.google.com/ServiceLogin%3Fcontinue%3Dhttps://www.google.com/search%253Fsca_esv%253D98989144458a5fc8%2526rlz%253D1C1KNTJ_enNG1059NG1059%2526sxsrf%253DACQVn0-K4fG95J6XSWL5dHbFxhNrlatLUA:1710516370389%2526q%253Delon%252Bmusk%2526tbm%253Disch%2526source%253Dlnms%2526sa%253DX%2526ved%253D2ahUKEwistI6FyvaEAxXMQkEAHaX7AeAQ0pQJegQIDhAB%2526biw%253D1536%2526bih%253D742%2526dpr%253D1.25%26hl%3Den&amp;opi=89978449&amp;sa=U&amp;ved=0ahUKEwihiYWYvaCFAxXfSvEDHeUeC1sQxs8CCFQ&amp;usg=AOvVaw2fTKaXBMQ6g1g0a2JLFY1I\">Sign in</a></div><div><table class=\"bookcf\"><tbody class=\"InWNIe\"><tr><td><a class=\"rEM8G\" href=\"https://www.google.com/preferences?hl=en&amp;sa=X&amp;ved=0ahUKEwihiYWYvaCFAxXfSvEDHeUeC1sQv5YECFU\">Settings</a></td><td><a class=\"rEM8G\" href=\"https://www.google.com/intl/en_ng/policies/privacy/\">Privacy</a></td><td><a class=\"rEM8G\" href=\"https://www.google.com/intl/en_ng/policies/terms/\">Terms</a></td></tr></tbody></table></div></div><div> </div></body></html>"
      ]
     },
     "execution_count": 7,
     "metadata": {},
     "output_type": "execute_result"
    }
   ],
   "source": [
    "soup"
   ]
  },
  {
   "cell_type": "code",
   "execution_count": 8,
   "metadata": {},
   "outputs": [],
   "source": [
    "imageTag = soup.find_all(\"img\")"
   ]
  },
  {
   "cell_type": "code",
   "execution_count": 9,
   "metadata": {},
   "outputs": [
    {
     "data": {
      "text/plain": [
       "[<img alt=\"Google\" class=\"kgJEQe\" src=\"/images/branding/searchlogo/1x/googlelogo_desk_heirloom_color_150x55dp.gif\"/>,\n",
       " <img alt=\"\" class=\"DS1iW\" src=\"https://encrypted-tbn0.gstatic.com/images?q=tbn:ANd9GcQWIm8IhNbQ8cHHkx25dbTK7_RaRK8DrRrK4GrR4wyApiAsBJPUbhsa7ICjKg&amp;s\"/>,\n",
       " <img alt=\"\" class=\"DS1iW\" src=\"https://encrypted-tbn0.gstatic.com/images?q=tbn:ANd9GcQY_R5NSNoZkSlMo3hf86COGJ4fCv0s6Nx4k8uCGkWc6YGOn_m4-rIOQ3GhOhg&amp;s\"/>,\n",
       " <img alt=\"\" class=\"DS1iW\" src=\"https://encrypted-tbn0.gstatic.com/images?q=tbn:ANd9GcTTO0bYn7LKOBzOMJRp9mXeD2scBnuMtPGfQYqjaBoxMHMtDToYys4awIx7ou8&amp;s\"/>,\n",
       " <img alt=\"\" class=\"DS1iW\" src=\"https://encrypted-tbn0.gstatic.com/images?q=tbn:ANd9GcQikTDjhKROagTaVq5vMFHkwcuUWsUmD2i3_l5O_lYk3Ul2KCq0OjCR5m21AQ&amp;s\"/>,\n",
       " <img alt=\"\" class=\"DS1iW\" src=\"https://encrypted-tbn0.gstatic.com/images?q=tbn:ANd9GcSWquD3V9PShopfxR5z4mBgB3IZnXGWVDSQM_48N0nbiI_0DYg43GVIktea3Uc&amp;s\"/>,\n",
       " <img alt=\"\" class=\"DS1iW\" src=\"https://encrypted-tbn0.gstatic.com/images?q=tbn:ANd9GcS6mPr1g683xgMlTnJfswzPyIjixDUJCLKR_GUOYd43dGj0LB8Uum64r_cOjl4&amp;s\"/>,\n",
       " <img alt=\"\" class=\"DS1iW\" src=\"https://encrypted-tbn0.gstatic.com/images?q=tbn:ANd9GcQosXj2elVFnxW60i0y2hp3ewC9ttZ6z78KaQ1MIqaaLOD_iocx9TT8qVsKW-k&amp;s\"/>,\n",
       " <img alt=\"\" class=\"DS1iW\" src=\"https://encrypted-tbn0.gstatic.com/images?q=tbn:ANd9GcS6PtbO3oSFgC1yh6BPlre0Sr5h3aca6UrEmg7ibGUrD1g40Xm5cZBGYl7G3PU&amp;s\"/>,\n",
       " <img alt=\"\" class=\"DS1iW\" src=\"https://encrypted-tbn0.gstatic.com/images?q=tbn:ANd9GcQoVC24-iwfmg1ynOoPkfB6fTOMKA4IEscvasg7lr_QSTQQIUU8Gq65d0EOoQ&amp;s\"/>,\n",
       " <img alt=\"\" class=\"DS1iW\" src=\"https://encrypted-tbn0.gstatic.com/images?q=tbn:ANd9GcSwq0dm9LsIJFXhVpVi2-xb2VQSTdG7Tb92l9AIyKFFgrYonh1FnTbuvi-3Cw&amp;s\"/>,\n",
       " <img alt=\"\" class=\"DS1iW\" src=\"https://encrypted-tbn0.gstatic.com/images?q=tbn:ANd9GcQPvuVvVBy-4sRmLNi7aNFcCiLP38rydifYXwFQfE3bQ2IJ6Q5mmXrZdFCSlw&amp;s\"/>,\n",
       " <img alt=\"\" class=\"DS1iW\" src=\"https://encrypted-tbn0.gstatic.com/images?q=tbn:ANd9GcQCdV2hVwayQ5-O7mnu-TPZPw0ZTjyEwRNElEkSdfhHL3ne0-iCez4Oo_r_9g&amp;s\"/>,\n",
       " <img alt=\"\" class=\"DS1iW\" src=\"https://encrypted-tbn0.gstatic.com/images?q=tbn:ANd9GcRrZNzYQxi1a-qn4UAQIHAseCjJ0_ewPp2-Su3ImZe_cD-HPueyeQFHT6PGxA&amp;s\"/>,\n",
       " <img alt=\"\" class=\"DS1iW\" src=\"https://encrypted-tbn0.gstatic.com/images?q=tbn:ANd9GcQOT3P9YTxYyjvEdqbs3Hl9V9QbfMz8hp6pHVkRcVGvdgF2GKdXsc5LDyC6&amp;s\"/>,\n",
       " <img alt=\"\" class=\"DS1iW\" src=\"https://encrypted-tbn0.gstatic.com/images?q=tbn:ANd9GcSMYNRVFWT78z1HfCjjsXyWHH40VRIwjNiYar3jQYHUhnaCQJZ6GSxCQ6cYto8&amp;s\"/>,\n",
       " <img alt=\"\" class=\"DS1iW\" src=\"https://encrypted-tbn0.gstatic.com/images?q=tbn:ANd9GcQkqgOWpGbsjvlfXgAzldcUv97Lh_0WqwpXwlrwCzhWF2YHLJO7PQgFKZR7gSg&amp;s\"/>,\n",
       " <img alt=\"\" class=\"DS1iW\" src=\"https://encrypted-tbn0.gstatic.com/images?q=tbn:ANd9GcSPf6wPoGZNPac4YVeTr95bTPwHEDU2Sl65hmiAwywZr39gPkk2lsAmYvpUog&amp;s\"/>,\n",
       " <img alt=\"\" class=\"DS1iW\" src=\"https://encrypted-tbn0.gstatic.com/images?q=tbn:ANd9GcQsiEvZM8rCdDGqNI6N2iKNQIH5WWiXrCVu70Vuwxl3h0VtHZ4T30JNmNnNAhY&amp;s\"/>,\n",
       " <img alt=\"\" class=\"DS1iW\" src=\"https://encrypted-tbn0.gstatic.com/images?q=tbn:ANd9GcQ89a56TN120-0LXqj6ip3zDGy0mlr08Pu7P6yiwackORDyp2JIozn6t8kjWA&amp;s\"/>,\n",
       " <img alt=\"\" class=\"DS1iW\" src=\"https://encrypted-tbn0.gstatic.com/images?q=tbn:ANd9GcS1mn0RJO-K0z-Ld3W4zzmYra_D5KVopm8yTCgEVm7K3FdarCualrSnlz8jNd0&amp;s\"/>]"
      ]
     },
     "execution_count": 9,
     "metadata": {},
     "output_type": "execute_result"
    }
   ],
   "source": [
    "imageTag"
   ]
  },
  {
   "cell_type": "code",
   "execution_count": 10,
   "metadata": {},
   "outputs": [
    {
     "data": {
      "text/plain": [
       "21"
      ]
     },
     "execution_count": 10,
     "metadata": {},
     "output_type": "execute_result"
    }
   ],
   "source": [
    "len(imageTag)"
   ]
  },
  {
   "cell_type": "code",
   "execution_count": 11,
   "metadata": {},
   "outputs": [],
   "source": [
    "del imageTag[0]"
   ]
  },
  {
   "cell_type": "code",
   "execution_count": 12,
   "metadata": {},
   "outputs": [
    {
     "name": "stdout",
     "output_type": "stream",
     "text": [
      "https://encrypted-tbn0.gstatic.com/images?q=tbn:ANd9GcQWIm8IhNbQ8cHHkx25dbTK7_RaRK8DrRrK4GrR4wyApiAsBJPUbhsa7ICjKg&s\n",
      "https://encrypted-tbn0.gstatic.com/images?q=tbn:ANd9GcQY_R5NSNoZkSlMo3hf86COGJ4fCv0s6Nx4k8uCGkWc6YGOn_m4-rIOQ3GhOhg&s\n",
      "https://encrypted-tbn0.gstatic.com/images?q=tbn:ANd9GcTTO0bYn7LKOBzOMJRp9mXeD2scBnuMtPGfQYqjaBoxMHMtDToYys4awIx7ou8&s\n",
      "https://encrypted-tbn0.gstatic.com/images?q=tbn:ANd9GcQikTDjhKROagTaVq5vMFHkwcuUWsUmD2i3_l5O_lYk3Ul2KCq0OjCR5m21AQ&s\n",
      "https://encrypted-tbn0.gstatic.com/images?q=tbn:ANd9GcSWquD3V9PShopfxR5z4mBgB3IZnXGWVDSQM_48N0nbiI_0DYg43GVIktea3Uc&s\n",
      "https://encrypted-tbn0.gstatic.com/images?q=tbn:ANd9GcS6mPr1g683xgMlTnJfswzPyIjixDUJCLKR_GUOYd43dGj0LB8Uum64r_cOjl4&s\n",
      "https://encrypted-tbn0.gstatic.com/images?q=tbn:ANd9GcQosXj2elVFnxW60i0y2hp3ewC9ttZ6z78KaQ1MIqaaLOD_iocx9TT8qVsKW-k&s\n",
      "https://encrypted-tbn0.gstatic.com/images?q=tbn:ANd9GcS6PtbO3oSFgC1yh6BPlre0Sr5h3aca6UrEmg7ibGUrD1g40Xm5cZBGYl7G3PU&s\n",
      "https://encrypted-tbn0.gstatic.com/images?q=tbn:ANd9GcQoVC24-iwfmg1ynOoPkfB6fTOMKA4IEscvasg7lr_QSTQQIUU8Gq65d0EOoQ&s\n",
      "https://encrypted-tbn0.gstatic.com/images?q=tbn:ANd9GcSwq0dm9LsIJFXhVpVi2-xb2VQSTdG7Tb92l9AIyKFFgrYonh1FnTbuvi-3Cw&s\n",
      "https://encrypted-tbn0.gstatic.com/images?q=tbn:ANd9GcQPvuVvVBy-4sRmLNi7aNFcCiLP38rydifYXwFQfE3bQ2IJ6Q5mmXrZdFCSlw&s\n",
      "https://encrypted-tbn0.gstatic.com/images?q=tbn:ANd9GcQCdV2hVwayQ5-O7mnu-TPZPw0ZTjyEwRNElEkSdfhHL3ne0-iCez4Oo_r_9g&s\n",
      "https://encrypted-tbn0.gstatic.com/images?q=tbn:ANd9GcRrZNzYQxi1a-qn4UAQIHAseCjJ0_ewPp2-Su3ImZe_cD-HPueyeQFHT6PGxA&s\n",
      "https://encrypted-tbn0.gstatic.com/images?q=tbn:ANd9GcQOT3P9YTxYyjvEdqbs3Hl9V9QbfMz8hp6pHVkRcVGvdgF2GKdXsc5LDyC6&s\n",
      "https://encrypted-tbn0.gstatic.com/images?q=tbn:ANd9GcSMYNRVFWT78z1HfCjjsXyWHH40VRIwjNiYar3jQYHUhnaCQJZ6GSxCQ6cYto8&s\n",
      "https://encrypted-tbn0.gstatic.com/images?q=tbn:ANd9GcQkqgOWpGbsjvlfXgAzldcUv97Lh_0WqwpXwlrwCzhWF2YHLJO7PQgFKZR7gSg&s\n",
      "https://encrypted-tbn0.gstatic.com/images?q=tbn:ANd9GcSPf6wPoGZNPac4YVeTr95bTPwHEDU2Sl65hmiAwywZr39gPkk2lsAmYvpUog&s\n",
      "https://encrypted-tbn0.gstatic.com/images?q=tbn:ANd9GcQsiEvZM8rCdDGqNI6N2iKNQIH5WWiXrCVu70Vuwxl3h0VtHZ4T30JNmNnNAhY&s\n",
      "https://encrypted-tbn0.gstatic.com/images?q=tbn:ANd9GcQ89a56TN120-0LXqj6ip3zDGy0mlr08Pu7P6yiwackORDyp2JIozn6t8kjWA&s\n",
      "https://encrypted-tbn0.gstatic.com/images?q=tbn:ANd9GcS1mn0RJO-K0z-Ld3W4zzmYra_D5KVopm8yTCgEVm7K3FdarCualrSnlz8jNd0&s\n"
     ]
    }
   ],
   "source": [
    "for i in imageTag:\n",
    "    print(i['src'])"
   ]
  },
  {
   "cell_type": "code",
   "execution_count": 15,
   "metadata": {},
   "outputs": [],
   "source": [
    "for i in imageTag:\n",
    "    image_url =i['src']\n",
    "    image_data=requests.get(image_url).content\n",
    "    with open(os.path.join(save_dir, f\"{query}_{imageTag.index(i)}.jpg\"),\"wb\") as f:\n",
    "        f.write(image_data)"
   ]
  }
 ],
 "metadata": {
  "kernelspec": {
   "display_name": "base",
   "language": "python",
   "name": "python3"
  },
  "language_info": {
   "codemirror_mode": {
    "name": "ipython",
    "version": 3
   },
   "file_extension": ".py",
   "mimetype": "text/x-python",
   "name": "python",
   "nbconvert_exporter": "python",
   "pygments_lexer": "ipython3",
   "version": "3.10.13"
  }
 },
 "nbformat": 4,
 "nbformat_minor": 2
}
